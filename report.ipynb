{
 "cells": [
  {
   "cell_type": "markdown",
   "metadata": {},
   "source": [
    "# Objetive"
   ]
  },
  {
   "cell_type": "markdown",
   "metadata": {},
   "source": [
    "- Create a model to predict delinquency probability and measure its performance.\n",
    "- Submit a document that explains your methodology - preferably ipython notebooks"
   ]
  },
  {
   "cell_type": "markdown",
   "metadata": {},
   "source": [
    "# Datasets\n",
    "You will find 3 csv files. The files were created from our database as of 2020 Feb 05.\n",
    "\n",
    "#####      *Brazil_DS_loans_2019-11-10_2019-12-05*\n",
    "\n",
    "It has the loans made for a period of 25 days with following important fields\n",
    "\n",
    "- Loan_id - unique identifier for a loan\n",
    "- Uuid - user identifier\n",
    "- Created_at - time when loan was created\n",
    "- Paid_at - time when it was paid. If it is missing then loan was not paid as of file creation date\n",
    "- Amount - amount of loan\n",
    "\n",
    "A\n",
    " loan is considered repaid if it's paid within 60 days.The objective is \n",
    "to create a predictive model for loan repayment based on the labels in \n",
    "this file.\n",
    "\n",
    "#####       *Brazil_DS_prev_loans*\n",
    "\n",
    "This has the previous loans taken for users in the above file and should have the same schema.\n",
    "\n",
    "#####       *Brazil_DS_recharges_2019-08-10_2019-12-05*\n",
    "\n",
    "A user pays for loans by making recharges after taking a loan. This file contains recharges for all users for about 4 months."
   ]
  },
  {
   "cell_type": "markdown",
   "metadata": {},
   "source": [
    "#### Read"
   ]
  },
  {
   "cell_type": "markdown",
   "metadata": {},
   "source": [
    "Datasets Brazil_DS_loans_2019-11-10_2019-12-05 and Brazil_DS_prev_loans were concatenated"
   ]
  },
  {
   "cell_type": "code",
   "execution_count": 3,
   "metadata": {},
   "outputs": [],
   "source": [
    "from functions.read import *\n",
    "from sklearn.ensemble import RandomForestClassifier\n",
    "from sklearn.linear_model import LogisticRegression\n",
    "from xgboost import XGBClassifier\n",
    "from functions.feature_default import ForecastDefault\n",
    "import logging\n",
    "import warnings\n",
    "\n",
    "warnings.filterwarnings(\"ignore\")\n",
    "logger = logging.getLogger()\n",
    "logger.setLevel(logging.ERROR)\n",
    "loans, recharges = load_dfs()"
   ]
  },
  {
   "cell_type": "code",
   "execution_count": 4,
   "metadata": {},
   "outputs": [],
   "source": [
    "#run to load some metrics to exploratory\n",
    "forecast = ForecastDefault(\n",
    "    loans_hist=loans, \n",
    "    recharges_hist=recharges, estimators_list=[\n",
    "                                                LogisticRegression,\n",
    "                                                XGBClassifier,\n",
    "                                                RandomForestClassifier,\n",
    "                                                ],\n",
    "    eval_metric='roc_auc',\n",
    "    inicial_date='2019-01-01',days_to_default=60,limit_date='2019-12-31')"
   ]
  },
  {
   "cell_type": "markdown",
   "metadata": {},
   "source": [
    "# Report"
   ]
  },
  {
   "cell_type": "markdown",
   "metadata": {},
   "source": [
    "#### Exploratory data analysis"
   ]
  },
  {
   "cell_type": "code",
   "execution_count": 5,
   "metadata": {},
   "outputs": [],
   "source": [
    "#forecast.train_df.groupby('target').count()['uuid'].to_frame() / len(forecast.train_df)"
   ]
  },
  {
   "cell_type": "markdown",
   "metadata": {},
   "source": [
    "The analysis date range is between *2019-01-16* - *2019-12-04*. The timeline for creating the model training dataset has a deadline up to *2019-10-05* which corresponds to 60 days before the last creation date of the loans. The target variable, customers who have not paid their loans within 60 days, has a prevalence of only 11%.\n",
    "\n",
    "| Default | Relative % |\n",
    "|---------|------------|\n",
    "| Not     | 88.4%      |\n",
    "| Yes     | 11.5%      |\n"
   ]
  },
  {
   "cell_type": "markdown",
   "metadata": {},
   "source": [
    "Summary values distribution over each variable. "
   ]
  },
  {
   "cell_type": "code",
   "execution_count": 6,
   "metadata": {},
   "outputs": [
    {
     "data": {
      "text/plain": [
       "(            target  median_amount_loan  freq_recharges_weekly  \\\n",
       " count  1033.000000         1033.000000            1033.000000   \n",
       " mean      0.115198            4.658761               0.956559   \n",
       " std       0.319416            1.404576               0.824489   \n",
       " min       0.000000            0.000000               0.000000   \n",
       " 25%       0.000000            5.000000               0.375000   \n",
       " 50%       0.000000            5.000000               0.750000   \n",
       " 75%       0.000000            5.000000               1.250000   \n",
       " max       1.000000           10.000000               5.500000   \n",
       " \n",
       "        recharges_weekly  delta_after_recharges  \n",
       " count       1033.000000            1033.000000  \n",
       " mean           0.170196               0.541723  \n",
       " std            0.087977               0.964410  \n",
       " min            0.000000               0.000000  \n",
       " 25%            0.125000               0.075000  \n",
       " 50%            0.125000               0.285000  \n",
       " 75%            0.250000               0.670000  \n",
       " max            0.812500              20.050000  ,\n",
       "                        Median\n",
       " target                  0.000\n",
       " median_amount_loan      5.000\n",
       " freq_recharges_weekly   0.750\n",
       " recharges_weekly        0.125\n",
       " delta_after_recharges   0.285)"
      ]
     },
     "execution_count": 6,
     "metadata": {},
     "output_type": "execute_result"
    }
   ],
   "source": [
    "(forecast.train_df.describe(),pd.DataFrame({'Median':forecast.train_df.median()}))"
   ]
  },
  {
   "cell_type": "markdown",
   "metadata": {},
   "source": [
    "The variables *median_amount_loan*, *delta_after_recharges* and *recharges_weekly* have a heavy tail so it was preferred to use median over mean to group each UUID."
   ]
  },
  {
   "cell_type": "code",
   "execution_count": 7,
   "metadata": {},
   "outputs": [
    {
     "data": {
      "text/plain": [
       "'recharges_weekly AxesSubplot(0.125,0.125;0.775x0.755)'"
      ]
     },
     "execution_count": 7,
     "metadata": {},
     "output_type": "execute_result"
    },
    {
     "data": {
      "image/png": "[encoded data removed]",
      "text/plain": [
       "<Figure size 432x288 with 1 Axes>"
      ]
     },
     "metadata": {
      "needs_background": "light"
     },
     "output_type": "display_data"
    }
   ],
   "source": [
    "(f\"recharges_weekly {forecast.train_df['recharges_weekly'].hist()}\")"
   ]
  },
  {
   "cell_type": "code",
   "execution_count": 8,
   "metadata": {},
   "outputs": [
    {
     "data": {
      "text/plain": [
       "<AxesSubplot:>"
      ]
     },
     "execution_count": 8,
     "metadata": {},
     "output_type": "execute_result"
    },
    {
     "data": {
      "image/png": "[encoded data removed]",
      "text/plain": [
       "<Figure size 432x288 with 1 Axes>"
      ]
     },
     "metadata": {
      "needs_background": "light"
     },
     "output_type": "display_data"
    }
   ],
   "source": [
    "forecast.train_df['delta_after_recharges'].hist()"
   ]
  },
  {
   "cell_type": "code",
   "execution_count": 9,
   "metadata": {},
   "outputs": [
    {
     "data": {
      "text/plain": [
       "<AxesSubplot:>"
      ]
     },
     "execution_count": 9,
     "metadata": {},
     "output_type": "execute_result"
    },
    {
     "data": {
      "image/png": "[encoded data removed]",
      "text/plain": [
       "<Figure size 432x288 with 1 Axes>"
      ]
     },
     "metadata": {
      "needs_background": "light"
     },
     "output_type": "display_data"
    }
   ],
   "source": [
    "forecast.train_df['median_amount_loan'].hist()"
   ]
  },
  {
   "cell_type": "markdown",
   "metadata": {},
   "source": [
    "##### Created variables"
   ]
  },
  {
   "cell_type": "markdown",
   "metadata": {},
   "source": [
    "Data were grouped for each *UUID*\n",
    "\n",
    "    \n",
    "    already_default =   0 if not defaulted, 1 if defaulted\n",
    "    median_amoun_loan =  \"median amount of all previous loans paid\"\n",
    "    count_loans =  \"number of previous loans paid\"\n",
    "    freq_recharges_weekly =  \"mean frequency recharges per week\"\n",
    "    recharges_weekly =  \"median frequency recharges per week\"\n",
    "    delta_after_recharge =  \"difference between balance after recharge and recharge value\"\n",
    "    \n",
    "\n"
   ]
  },
  {
   "cell_type": "markdown",
   "metadata": {},
   "source": [
    "The variable *count_loans* was removed because have multicolinearity with the variables *sum_amount* over 95%."
   ]
  },
  {
   "cell_type": "code",
   "execution_count": 10,
   "metadata": {},
   "outputs": [
    {
     "data": {
      "text/html": [
       "<div>\n",
       "<style scoped>\n",
       "    .dataframe tbody tr th:only-of-type {\n",
       "        vertical-align: middle;\n",
       "    }\n",
       "\n",
       "    .dataframe tbody tr th {\n",
       "        vertical-align: top;\n",
       "    }\n",
       "\n",
       "    .dataframe thead th {\n",
       "        text-align: right;\n",
       "    }\n",
       "</style>\n",
       "<table border=\"1\" class=\"dataframe\">\n",
       "  <thead>\n",
       "    <tr style=\"text-align: right;\">\n",
       "      <th></th>\n",
       "      <th>target</th>\n",
       "      <th>median_amount_loan</th>\n",
       "      <th>count_loans</th>\n",
       "      <th>freq_recharges_weekly</th>\n",
       "      <th>recharges_weekly</th>\n",
       "      <th>delta_after_recharges</th>\n",
       "    </tr>\n",
       "  </thead>\n",
       "  <tbody>\n",
       "    <tr>\n",
       "      <th>target</th>\n",
       "      <td>1.000000</td>\n",
       "      <td>-0.021494</td>\n",
       "      <td>-0.061411</td>\n",
       "      <td>-0.237355</td>\n",
       "      <td>-0.085627</td>\n",
       "      <td>-0.054256</td>\n",
       "    </tr>\n",
       "    <tr>\n",
       "      <th>median_amount_loan</th>\n",
       "      <td>-0.021494</td>\n",
       "      <td>1.000000</td>\n",
       "      <td>0.440354</td>\n",
       "      <td>0.370435</td>\n",
       "      <td>0.352840</td>\n",
       "      <td>0.051462</td>\n",
       "    </tr>\n",
       "    <tr>\n",
       "      <th>count_loans</th>\n",
       "      <td>-0.061411</td>\n",
       "      <td>0.440354</td>\n",
       "      <td>1.000000</td>\n",
       "      <td>0.609952</td>\n",
       "      <td>0.449434</td>\n",
       "      <td>0.071755</td>\n",
       "    </tr>\n",
       "    <tr>\n",
       "      <th>freq_recharges_weekly</th>\n",
       "      <td>-0.237355</td>\n",
       "      <td>0.370435</td>\n",
       "      <td>0.609952</td>\n",
       "      <td>1.000000</td>\n",
       "      <td>0.697400</td>\n",
       "      <td>0.065405</td>\n",
       "    </tr>\n",
       "    <tr>\n",
       "      <th>recharges_weekly</th>\n",
       "      <td>-0.085627</td>\n",
       "      <td>0.352840</td>\n",
       "      <td>0.449434</td>\n",
       "      <td>0.697400</td>\n",
       "      <td>1.000000</td>\n",
       "      <td>0.097317</td>\n",
       "    </tr>\n",
       "    <tr>\n",
       "      <th>delta_after_recharges</th>\n",
       "      <td>-0.054256</td>\n",
       "      <td>0.051462</td>\n",
       "      <td>0.071755</td>\n",
       "      <td>0.065405</td>\n",
       "      <td>0.097317</td>\n",
       "      <td>1.000000</td>\n",
       "    </tr>\n",
       "  </tbody>\n",
       "</table>\n",
       "</div>"
      ],
      "text/plain": [
       "                         target  median_amount_loan  count_loans  \\\n",
       "target                 1.000000           -0.021494    -0.061411   \n",
       "median_amount_loan    -0.021494            1.000000     0.440354   \n",
       "count_loans           -0.061411            0.440354     1.000000   \n",
       "freq_recharges_weekly -0.237355            0.370435     0.609952   \n",
       "recharges_weekly      -0.085627            0.352840     0.449434   \n",
       "delta_after_recharges -0.054256            0.051462     0.071755   \n",
       "\n",
       "                       freq_recharges_weekly  recharges_weekly  \\\n",
       "target                             -0.237355         -0.085627   \n",
       "median_amount_loan                  0.370435          0.352840   \n",
       "count_loans                         0.609952          0.449434   \n",
       "freq_recharges_weekly               1.000000          0.697400   \n",
       "recharges_weekly                    0.697400          1.000000   \n",
       "delta_after_recharges               0.065405          0.097317   \n",
       "\n",
       "                       delta_after_recharges  \n",
       "target                             -0.054256  \n",
       "median_amount_loan                  0.051462  \n",
       "count_loans                         0.071755  \n",
       "freq_recharges_weekly               0.065405  \n",
       "recharges_weekly                    0.097317  \n",
       "delta_after_recharges               1.000000  "
      ]
     },
     "execution_count": 10,
     "metadata": {},
     "output_type": "execute_result"
    }
   ],
   "source": [
    "forecast.corr_df.corr()"
   ]
  },
  {
   "cell_type": "markdown",
   "metadata": {},
   "source": [
    "The training dataset was balanced by undersampling the majority class resulting in the shape"
   ]
  },
  {
   "cell_type": "code",
   "execution_count": 11,
   "metadata": {},
   "outputs": [
    {
     "name": "stdout",
     "output_type": "stream",
     "text": [
      "Target distribution before sampling \n",
      " 0    914\n",
      "1    119\n",
      "Name: target, dtype: int64 \n",
      " \n",
      " 'Target distribution after undersampling \n",
      " 0    119\n",
      "1    119\n",
      "Name: target, dtype: int64\n"
     ]
    }
   ],
   "source": [
    "print(f\"Target distribution before sampling \\n {forecast.train_df['target'].value_counts()} \\n \\n 'Target distribution after undersampling \\n {forecast.model.train_y.value_counts()}\")"
   ]
  },
  {
   "cell_type": "code",
   "execution_count": 12,
   "metadata": {},
   "outputs": [
    {
     "name": "stdout",
     "output_type": "stream",
     "text": [
      "Train dataset shape. Row: 238, Columns: 4\n"
     ]
    }
   ],
   "source": [
    "print(f'Train dataset shape. Row: {forecast.model.train_X.shape[0]}, Columns: {forecast.model.train_X.shape[1]}')"
   ]
  },
  {
   "cell_type": "markdown",
   "metadata": {},
   "source": [
    "## Fit model and hyphotesis cases"
   ]
  },
  {
   "cell_type": "markdown",
   "metadata": {},
   "source": [
    "The model was trained splitting in folds to select the best model to the evaluation metric. The models picked were [*XGboost*, *Random Forest*, *Logistic Regression*]. Differents hyphotesis were created."
   ]
  },
  {
   "cell_type": "markdown",
   "metadata": {},
   "source": [
    "#### 1 - If the model's target is to primarily detect the delinquencies. The evaluation metric should be *recall*\n",
    "\n",
    "The *XGBClassifier* should be chosen with the mean performance metric = 0.64"
   ]
  },
  {
   "cell_type": "code",
   "execution_count": 13,
   "metadata": {},
   "outputs": [
    {
     "name": "stderr",
     "output_type": "stream",
     "text": [
      "INFO:root:<class 'sklearn.linear_model._logistic.LogisticRegression'> : Training sample metrics | [0.783, 0.52, 0.826, 0.739, 0.56] | mean: 0.686\n",
      "INFO:root:<class 'xgboost.sklearn.XGBClassifier'> : Training sample metrics | [0.826, 0.72, 0.87, 0.913, 0.8] | mean: 0.826\n",
      "INFO:root:<class 'sklearn.ensemble._forest.RandomForestClassifier'> : Training sample metrics | [0.826, 0.64, 0.87, 0.913, 0.76] | mean: 0.802\n",
      "INFO:root:Best model :XGBClassifier\n",
      "INFO:root:Test sampling recall : 0.647\n",
      "INFO:root:Classification report \n",
      "               precision    recall  f1-score   support\n",
      "\n",
      "           0       0.85      0.53      0.65       187\n",
      "           1       0.27      0.65      0.38        51\n",
      "\n",
      "    accuracy                           0.55       238\n",
      "   macro avg       0.56      0.59      0.52       238\n",
      "weighted avg       0.72      0.55      0.59       238\n",
      "\n",
      "INFO:root:Confusion matrix \n",
      " [[99 88]\n",
      " [18 33]]\n"
     ]
    }
   ],
   "source": [
    "logger.setLevel(logging.INFO)\n",
    "forecast = ForecastDefault(\n",
    "    loans_hist=loans, \n",
    "    recharges_hist=recharges, estimators_list=[\n",
    "                                                LogisticRegression,\n",
    "                                                XGBClassifier,\n",
    "                                                RandomForestClassifier,\n",
    "                                                ],\n",
    "    eval_metric='recall',\n",
    "    inicial_date='2019-01-01',days_to_default=60,limit_date='2019-12-31')"
   ]
  },
  {
   "cell_type": "markdown",
   "metadata": {},
   "source": [
    "#### 2 - If the model's target is to primarily not miss at all. The evaluation metric should be *Accuracy*\n",
    "\n",
    "The *Random Forest* should be chosen with the mean performance metric = 0.55"
   ]
  },
  {
   "cell_type": "code",
   "execution_count": 14,
   "metadata": {},
   "outputs": [
    {
     "name": "stderr",
     "output_type": "stream",
     "text": [
      "INFO:root:<class 'sklearn.linear_model._logistic.LogisticRegression'> : Training sample metrics | [0.896, 0.75, 0.917, 0.872, 0.766] | mean: 0.84\n",
      "INFO:root:<class 'xgboost.sklearn.XGBClassifier'> : Training sample metrics | [0.812, 0.792, 0.875, 0.872, 0.851] | mean: 0.84\n",
      "INFO:root:<class 'sklearn.ensemble._forest.RandomForestClassifier'> : Training sample metrics | [0.875, 0.792, 0.854, 0.894, 0.83] | mean: 0.849\n",
      "INFO:root:Best model :RandomForestClassifier\n",
      "INFO:root:Test sampling acc : 0.559\n",
      "INFO:root:Classification report \n",
      "               precision    recall  f1-score   support\n",
      "\n",
      "           0       0.85      0.53      0.66       187\n",
      "           1       0.28      0.65      0.39        51\n",
      "\n",
      "    accuracy                           0.56       238\n",
      "   macro avg       0.56      0.59      0.52       238\n",
      "weighted avg       0.72      0.56      0.60       238\n",
      "\n",
      "INFO:root:Confusion matrix \n",
      " [[100  87]\n",
      " [ 18  33]]\n"
     ]
    }
   ],
   "source": [
    "logger.setLevel(logging.INFO)\n",
    "forecast = ForecastDefault(\n",
    "    loans_hist=loans, \n",
    "    recharges_hist=recharges, estimators_list=[\n",
    "                                                LogisticRegression,\n",
    "                                                XGBClassifier,\n",
    "                                                RandomForestClassifier,\n",
    "                                                ],\n",
    "    eval_metric='acc',\n",
    "    inicial_date='2019-01-01',days_to_default=60,limit_date='2019-12-31')"
   ]
  },
  {
   "cell_type": "markdown",
   "metadata": {},
   "source": [
    "#### 3 - If the model's target is to primarily balance between precision and detect correctly delinquencies. The evaluation metric should be *F-1*\n",
    "\n",
    "The *Random Forest* should be chosen with the mean performance metric = 0.38"
   ]
  },
  {
   "cell_type": "code",
   "execution_count": 15,
   "metadata": {},
   "outputs": [
    {
     "name": "stderr",
     "output_type": "stream",
     "text": [
      "INFO:root:<class 'sklearn.linear_model._logistic.LogisticRegression'> : Training sample metrics | [0.878, 0.684, 0.905, 0.85, 0.718] | mean: 0.807\n",
      "INFO:root:<class 'xgboost.sklearn.XGBClassifier'> : Training sample metrics | [0.809, 0.783, 0.87, 0.875, 0.851] | mean: 0.838\n",
      "INFO:root:<class 'sklearn.ensemble._forest.RandomForestClassifier'> : Training sample metrics | [0.864, 0.791, 0.851, 0.917, 0.826] | mean: 0.85\n",
      "INFO:root:Best model :RandomForestClassifier\n",
      "INFO:root:Test sampling f1 : 0.382\n",
      "INFO:root:Classification report \n",
      "               precision    recall  f1-score   support\n",
      "\n",
      "           0       0.84      0.52      0.65       187\n",
      "           1       0.27      0.65      0.38        51\n",
      "\n",
      "    accuracy                           0.55       238\n",
      "   macro avg       0.56      0.59      0.51       238\n",
      "weighted avg       0.72      0.55      0.59       238\n",
      "\n",
      "INFO:root:Confusion matrix \n",
      " [[98 89]\n",
      " [18 33]]\n"
     ]
    }
   ],
   "source": [
    "logger.setLevel(logging.INFO)\n",
    "forecast = ForecastDefault(\n",
    "    loans_hist=loans, \n",
    "    recharges_hist=recharges, estimators_list=[\n",
    "                                                LogisticRegression,\n",
    "                                                XGBClassifier,\n",
    "                                                RandomForestClassifier,\n",
    "                                                ],\n",
    "    eval_metric='f1',\n",
    "    inicial_date='2019-01-01',days_to_default=60,limit_date='2019-12-31')"
   ]
  },
  {
   "cell_type": "markdown",
   "metadata": {},
   "source": [
    "#### 4 - If the purpose of the model is primarily to distinguish the classes. The evaluation metric should be *AUC*\n",
    "\n",
    "The *Random Forest* should be chosen with the mean performance metric = 0.58"
   ]
  },
  {
   "cell_type": "code",
   "execution_count": 16,
   "metadata": {},
   "outputs": [
    {
     "name": "stderr",
     "output_type": "stream",
     "text": [
      "INFO:root:<class 'sklearn.linear_model._logistic.LogisticRegression'> : Training sample metrics | [0.891, 0.76, 0.913, 0.87, 0.78] | mean: 0.843\n",
      "INFO:root:<class 'xgboost.sklearn.XGBClassifier'> : Training sample metrics | [0.813, 0.795, 0.875, 0.873, 0.855] | mean: 0.842\n",
      "INFO:root:<class 'sklearn.ensemble._forest.RandomForestClassifier'> : Training sample metrics | [0.833, 0.818, 0.855, 0.894, 0.835] | mean: 0.847\n",
      "INFO:root:Best model :RandomForestClassifier\n",
      "INFO:root:Test sampling roc_auc : 0.591\n",
      "INFO:root:Classification report \n",
      "               precision    recall  f1-score   support\n",
      "\n",
      "           0       0.85      0.53      0.66       187\n",
      "           1       0.28      0.65      0.39        51\n",
      "\n",
      "    accuracy                           0.56       238\n",
      "   macro avg       0.56      0.59      0.52       238\n",
      "weighted avg       0.72      0.56      0.60       238\n",
      "\n",
      "INFO:root:Confusion matrix \n",
      " [[100  87]\n",
      " [ 18  33]]\n"
     ]
    }
   ],
   "source": [
    "forecast = ForecastDefault(\n",
    "    loans_hist=loans, \n",
    "    recharges_hist=recharges, estimators_list=[\n",
    "                                                LogisticRegression,\n",
    "                                                XGBClassifier,\n",
    "                                                RandomForestClassifier,\n",
    "                                                ],\n",
    "    eval_metric='roc_auc',\n",
    "    inicial_date='2019-01-01',days_to_default=60,limit_date='2019-12-31')"
   ]
  },
  {
   "cell_type": "markdown",
   "metadata": {},
   "source": [
    "## Future improvements"
   ]
  },
  {
   "cell_type": "markdown",
   "metadata": {},
   "source": [
    "Creating allowed loans limits to each costumer combining regression models with business stategy to simulate different scenarios and evaluate possible Return On Investiment for each strategy. Once chosen the strategy we could test it using A/B tests"
   ]
  }
 ],
 "metadata": {
  "kernelspec": {
   "display_name": "Python 3.8.13 ('juvo_test_envi_5')",
   "language": "python",
   "name": "python3"
  },
  "language_info": {
   "codemirror_mode": {
    "name": "ipython",
    "version": 3
   },
   "file_extension": ".py",
   "mimetype": "text/x-python",
   "name": "python",
   "nbconvert_exporter": "python",
   "pygments_lexer": "ipython3",
   "version": "3.8.13"
  },
  "orig_nbformat": 4,
  "vscode": {
   "interpreter": {
    "hash": "5d6ae700897d21bf2c626b5398b8431b6cda973bff3df8458bc7ebf9e4c45697"
   }
  }
 },
 "nbformat": 4,
 "nbformat_minor": 2
}
