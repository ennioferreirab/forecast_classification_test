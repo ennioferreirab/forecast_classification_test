{
 "cells": [
  {
   "cell_type": "markdown",
   "metadata": {},
   "source": [
    "# Objetive"
   ]
  },
  {
   "cell_type": "markdown",
   "metadata": {},
   "source": [
    "- Create a model to predict delinquency probability and measure its performance.\n",
    "- Submit a document that explains your methodology - preferably ipython notebooks"
   ]
  },
  {
   "cell_type": "markdown",
   "metadata": {},
   "source": [
    "# Datasets\n",
    "You will find 3 csv files. The files were created from our database as of 2020 Feb 05.\n",
    "\n",
    "#####      *Brazil_DS_loans_2019-11-10_2019-12-05*\n",
    "\n",
    "It has the loans made for a period of 25 days with following important fields\n",
    "\n",
    "- Loan_id - unique identifier for a loan\n",
    "- Uuid - user identifier\n",
    "- Created_at - time when loan was created\n",
    "- Paid_at - time when it was paid. If it is missing then loan was not paid as of file creation date\n",
    "- Amount - amount of loan\n",
    "\n",
    "A\n",
    " loan is considered repaid if it's paid within 60 days.The objective is \n",
    "to create a predictive model for loan repayment based on the labels in \n",
    "this file.\n",
    "\n",
    "#####       *Brazil_DS_prev_loans*\n",
    "\n",
    "This has the previous loans taken for users in the above file and should have the same schema.\n",
    "\n",
    "#####       *Brazil_DS_recharges_2019-08-10_2019-12-05*\n",
    "\n",
    "A user pays for loans by making recharges after taking a loan. This file contains recharges for all users for about 4 months."
   ]
  },
  {
   "cell_type": "markdown",
   "metadata": {},
   "source": [
    "#### Read"
   ]
  },
  {
   "cell_type": "markdown",
   "metadata": {},
   "source": [
    "Datasets Brazil_DS_loans_2019-11-10_2019-12-05 and Brazil_DS_prev_loans were concatenated"
   ]
  },
  {
   "cell_type": "code",
   "execution_count": 13,
   "metadata": {},
   "outputs": [],
   "source": [
    "from functions.read import *\n",
    "from sklearn.ensemble import RandomForestClassifier\n",
    "from sklearn.linear_model import LogisticRegression\n",
    "from xgboost import XGBClassifier\n",
    "from functions.feature_default import ForecastDefault\n",
    "import logging\n",
    "\n",
    "logger = logging.getLogger()\n",
    "logger.setLevel(logging.ERROR)\n",
    "loans, recharges = load_dfs()"
   ]
  },
  {
   "cell_type": "markdown",
   "metadata": {},
   "source": [
    "#### Fit model"
   ]
  },
  {
   "cell_type": "code",
   "execution_count": 14,
   "metadata": {},
   "outputs": [],
   "source": [
    "forecast = ForecastDefault(\n",
    "    loans_hist=loans, \n",
    "    recharges_hist=recharges, estimators_list=[\n",
    "                                                LogisticRegression,\n",
    "                                                XGBClassifier,\n",
    "                                                RandomForestClassifier,\n",
    "                                                ],\n",
    "    eval_metric='roc_auc',\n",
    "    inicial_date='2019-01-01',days_to_default=60,limit_date='2019-12-31')"
   ]
  },
  {
   "cell_type": "markdown",
   "metadata": {},
   "source": [
    "# Report"
   ]
  },
  {
   "cell_type": "markdown",
   "metadata": {},
   "source": [
    "#### Exploratory data analysis"
   ]
  },
  {
   "cell_type": "markdown",
   "metadata": {},
   "source": [
    "O intervalo de analise é entre *2019-01-16* - *2019-12-04*. A linha do tempo para a criação do dataset de treinamento do modelo foi possui a data limite até *2019-10-05* que corresponde a 60 dias antes da última data de creação dos emprestimos. A variável target, clientes que não pagaram seus imprestimos até 60 dias, possui a prevalencia de apenas 11%.\n",
    "\n",
    "| Default | Relative % |\n",
    "|---------|------------|\n",
    "| Not     | 88.4%      |\n",
    "| Yes     | 11.5%      |\n"
   ]
  },
  {
   "cell_type": "code",
   "execution_count": 15,
   "metadata": {},
   "outputs": [
    {
     "data": {
      "text/html": [
       "<div>\n",
       "<style scoped>\n",
       "    .dataframe tbody tr th:only-of-type {\n",
       "        vertical-align: middle;\n",
       "    }\n",
       "\n",
       "    .dataframe tbody tr th {\n",
       "        vertical-align: top;\n",
       "    }\n",
       "\n",
       "    .dataframe thead th {\n",
       "        text-align: right;\n",
       "    }\n",
       "</style>\n",
       "<table border=\"1\" class=\"dataframe\">\n",
       "  <thead>\n",
       "    <tr style=\"text-align: right;\">\n",
       "      <th></th>\n",
       "      <th>uuid</th>\n",
       "    </tr>\n",
       "    <tr>\n",
       "      <th>target</th>\n",
       "      <th></th>\n",
       "    </tr>\n",
       "  </thead>\n",
       "  <tbody>\n",
       "    <tr>\n",
       "      <th>0</th>\n",
       "      <td>0.884802</td>\n",
       "    </tr>\n",
       "    <tr>\n",
       "      <th>1</th>\n",
       "      <td>0.115198</td>\n",
       "    </tr>\n",
       "  </tbody>\n",
       "</table>\n",
       "</div>"
      ],
      "text/plain": [
       "            uuid\n",
       "target          \n",
       "0       0.884802\n",
       "1       0.115198"
      ]
     },
     "execution_count": 15,
     "metadata": {},
     "output_type": "execute_result"
    }
   ],
   "source": [
    "forecast.train_df.groupby('target').count()['uuid'].to_frame() / len(forecast.train_df)"
   ]
  },
  {
   "cell_type": "code",
   "execution_count": 16,
   "metadata": {},
   "outputs": [
    {
     "data": {
      "text/html": [
       "<div>\n",
       "<style scoped>\n",
       "    .dataframe tbody tr th:only-of-type {\n",
       "        vertical-align: middle;\n",
       "    }\n",
       "\n",
       "    .dataframe tbody tr th {\n",
       "        vertical-align: top;\n",
       "    }\n",
       "\n",
       "    .dataframe thead th {\n",
       "        text-align: right;\n",
       "    }\n",
       "</style>\n",
       "<table border=\"1\" class=\"dataframe\">\n",
       "  <thead>\n",
       "    <tr style=\"text-align: right;\">\n",
       "      <th></th>\n",
       "      <th>target</th>\n",
       "      <th>sum_amount</th>\n",
       "      <th>freq_recharges_weekly</th>\n",
       "      <th>recharges_weekly</th>\n",
       "      <th>delta_after_recharges</th>\n",
       "    </tr>\n",
       "  </thead>\n",
       "  <tbody>\n",
       "    <tr>\n",
       "      <th>count</th>\n",
       "      <td>1033.000000</td>\n",
       "      <td>1033.000000</td>\n",
       "      <td>1033.000000</td>\n",
       "      <td>1033.000000</td>\n",
       "      <td>1033.000000</td>\n",
       "    </tr>\n",
       "    <tr>\n",
       "      <th>mean</th>\n",
       "      <td>0.115198</td>\n",
       "      <td>12.662149</td>\n",
       "      <td>0.956559</td>\n",
       "      <td>0.170196</td>\n",
       "      <td>0.541723</td>\n",
       "    </tr>\n",
       "    <tr>\n",
       "      <th>std</th>\n",
       "      <td>0.319416</td>\n",
       "      <td>14.921600</td>\n",
       "      <td>0.824489</td>\n",
       "      <td>0.087977</td>\n",
       "      <td>0.964410</td>\n",
       "    </tr>\n",
       "    <tr>\n",
       "      <th>min</th>\n",
       "      <td>0.000000</td>\n",
       "      <td>0.000000</td>\n",
       "      <td>0.000000</td>\n",
       "      <td>0.000000</td>\n",
       "      <td>0.000000</td>\n",
       "    </tr>\n",
       "    <tr>\n",
       "      <th>25%</th>\n",
       "      <td>0.000000</td>\n",
       "      <td>5.000000</td>\n",
       "      <td>0.375000</td>\n",
       "      <td>0.125000</td>\n",
       "      <td>0.075000</td>\n",
       "    </tr>\n",
       "    <tr>\n",
       "      <th>50%</th>\n",
       "      <td>0.000000</td>\n",
       "      <td>10.000000</td>\n",
       "      <td>0.750000</td>\n",
       "      <td>0.125000</td>\n",
       "      <td>0.285000</td>\n",
       "    </tr>\n",
       "    <tr>\n",
       "      <th>75%</th>\n",
       "      <td>0.000000</td>\n",
       "      <td>15.000000</td>\n",
       "      <td>1.250000</td>\n",
       "      <td>0.250000</td>\n",
       "      <td>0.670000</td>\n",
       "    </tr>\n",
       "    <tr>\n",
       "      <th>max</th>\n",
       "      <td>1.000000</td>\n",
       "      <td>150.000000</td>\n",
       "      <td>5.500000</td>\n",
       "      <td>0.812500</td>\n",
       "      <td>20.050000</td>\n",
       "    </tr>\n",
       "  </tbody>\n",
       "</table>\n",
       "</div>"
      ],
      "text/plain": [
       "            target   sum_amount  freq_recharges_weekly  recharges_weekly  \\\n",
       "count  1033.000000  1033.000000            1033.000000       1033.000000   \n",
       "mean      0.115198    12.662149               0.956559          0.170196   \n",
       "std       0.319416    14.921600               0.824489          0.087977   \n",
       "min       0.000000     0.000000               0.000000          0.000000   \n",
       "25%       0.000000     5.000000               0.375000          0.125000   \n",
       "50%       0.000000    10.000000               0.750000          0.125000   \n",
       "75%       0.000000    15.000000               1.250000          0.250000   \n",
       "max       1.000000   150.000000               5.500000          0.812500   \n",
       "\n",
       "       delta_after_recharges  \n",
       "count            1033.000000  \n",
       "mean                0.541723  \n",
       "std                 0.964410  \n",
       "min                 0.000000  \n",
       "25%                 0.075000  \n",
       "50%                 0.285000  \n",
       "75%                 0.670000  \n",
       "max                20.050000  "
      ]
     },
     "execution_count": 16,
     "metadata": {},
     "output_type": "execute_result"
    }
   ],
   "source": [
    "forecast.train_df.describe()"
   ]
  },
  {
   "cell_type": "code",
   "execution_count": 17,
   "metadata": {},
   "outputs": [
    {
     "name": "stderr",
     "output_type": "stream",
     "text": [
      "/tmp/ipykernel_54747/1717482560.py:1: FutureWarning: Dropping of nuisance columns in DataFrame reductions (with 'numeric_only=None') is deprecated; in a future version this will raise TypeError.  Select only valid columns before calling the reduction.\n",
      "  forecast.train_df.median()\n"
     ]
    },
    {
     "data": {
      "text/plain": [
       "target                    0.000\n",
       "sum_amount               10.000\n",
       "freq_recharges_weekly     0.750\n",
       "recharges_weekly          0.125\n",
       "delta_after_recharges     0.285\n",
       "dtype: float64"
      ]
     },
     "execution_count": 17,
     "metadata": {},
     "output_type": "execute_result"
    }
   ],
   "source": [
    "forecast.train_df.median()"
   ]
  },
  {
   "cell_type": "markdown",
   "metadata": {},
   "source": [
    "##### Created variables"
   ]
  },
  {
   "cell_type": "markdown",
   "metadata": {},
   "source": [
    "Os dados foram agrupados para cada *UUID*\n",
    "\n",
    "```python\n",
    "already_default =   0 if not defaulted, 1 if defaulted\n",
    "sum_amoun =  \"sum amount of all previous loans paid\"\n",
    "count_loans =  \"number of previous loans paid\"\n",
    "freq_recharges_weekly =  \"mean frequency recharges per week\"\n",
    "recharges_weekly =  \"median frequency recharges per week\"\n",
    "delta_after_recharge =  \"difference between balance after recharge and recharge value\"\n",
    "```\n",
    "\n"
   ]
  },
  {
   "cell_type": "markdown",
   "metadata": {},
   "source": [
    "The variable *count_loans* was removed because have multicolinearity with the variables *sum_amount* over 95%."
   ]
  },
  {
   "cell_type": "code",
   "execution_count": 18,
   "metadata": {},
   "outputs": [
    {
     "data": {
      "text/html": [
       "<div>\n",
       "<style scoped>\n",
       "    .dataframe tbody tr th:only-of-type {\n",
       "        vertical-align: middle;\n",
       "    }\n",
       "\n",
       "    .dataframe tbody tr th {\n",
       "        vertical-align: top;\n",
       "    }\n",
       "\n",
       "    .dataframe thead th {\n",
       "        text-align: right;\n",
       "    }\n",
       "</style>\n",
       "<table border=\"1\" class=\"dataframe\">\n",
       "  <thead>\n",
       "    <tr style=\"text-align: right;\">\n",
       "      <th></th>\n",
       "      <th>target</th>\n",
       "      <th>sum_amount</th>\n",
       "      <th>count_loans</th>\n",
       "      <th>freq_recharges_weekly</th>\n",
       "      <th>recharges_weekly</th>\n",
       "      <th>delta_after_recharges</th>\n",
       "    </tr>\n",
       "  </thead>\n",
       "  <tbody>\n",
       "    <tr>\n",
       "      <th>target</th>\n",
       "      <td>1.000000</td>\n",
       "      <td>-0.062007</td>\n",
       "      <td>-0.061411</td>\n",
       "      <td>-0.237355</td>\n",
       "      <td>-0.085627</td>\n",
       "      <td>-0.054256</td>\n",
       "    </tr>\n",
       "    <tr>\n",
       "      <th>sum_amount</th>\n",
       "      <td>-0.062007</td>\n",
       "      <td>1.000000</td>\n",
       "      <td>0.974835</td>\n",
       "      <td>0.624845</td>\n",
       "      <td>0.477428</td>\n",
       "      <td>0.074858</td>\n",
       "    </tr>\n",
       "    <tr>\n",
       "      <th>count_loans</th>\n",
       "      <td>-0.061411</td>\n",
       "      <td>0.974835</td>\n",
       "      <td>1.000000</td>\n",
       "      <td>0.609952</td>\n",
       "      <td>0.449434</td>\n",
       "      <td>0.071755</td>\n",
       "    </tr>\n",
       "    <tr>\n",
       "      <th>freq_recharges_weekly</th>\n",
       "      <td>-0.237355</td>\n",
       "      <td>0.624845</td>\n",
       "      <td>0.609952</td>\n",
       "      <td>1.000000</td>\n",
       "      <td>0.697400</td>\n",
       "      <td>0.065405</td>\n",
       "    </tr>\n",
       "    <tr>\n",
       "      <th>recharges_weekly</th>\n",
       "      <td>-0.085627</td>\n",
       "      <td>0.477428</td>\n",
       "      <td>0.449434</td>\n",
       "      <td>0.697400</td>\n",
       "      <td>1.000000</td>\n",
       "      <td>0.097317</td>\n",
       "    </tr>\n",
       "    <tr>\n",
       "      <th>delta_after_recharges</th>\n",
       "      <td>-0.054256</td>\n",
       "      <td>0.074858</td>\n",
       "      <td>0.071755</td>\n",
       "      <td>0.065405</td>\n",
       "      <td>0.097317</td>\n",
       "      <td>1.000000</td>\n",
       "    </tr>\n",
       "  </tbody>\n",
       "</table>\n",
       "</div>"
      ],
      "text/plain": [
       "                         target  sum_amount  count_loans  \\\n",
       "target                 1.000000   -0.062007    -0.061411   \n",
       "sum_amount            -0.062007    1.000000     0.974835   \n",
       "count_loans           -0.061411    0.974835     1.000000   \n",
       "freq_recharges_weekly -0.237355    0.624845     0.609952   \n",
       "recharges_weekly      -0.085627    0.477428     0.449434   \n",
       "delta_after_recharges -0.054256    0.074858     0.071755   \n",
       "\n",
       "                       freq_recharges_weekly  recharges_weekly  \\\n",
       "target                             -0.237355         -0.085627   \n",
       "sum_amount                          0.624845          0.477428   \n",
       "count_loans                         0.609952          0.449434   \n",
       "freq_recharges_weekly               1.000000          0.697400   \n",
       "recharges_weekly                    0.697400          1.000000   \n",
       "delta_after_recharges               0.065405          0.097317   \n",
       "\n",
       "                       delta_after_recharges  \n",
       "target                             -0.054256  \n",
       "sum_amount                          0.074858  \n",
       "count_loans                         0.071755  \n",
       "freq_recharges_weekly               0.065405  \n",
       "recharges_weekly                    0.097317  \n",
       "delta_after_recharges               1.000000  "
      ]
     },
     "execution_count": 18,
     "metadata": {},
     "output_type": "execute_result"
    }
   ],
   "source": [
    "forecast.corr_df.corr()"
   ]
  },
  {
   "cell_type": "markdown",
   "metadata": {},
   "source": [
    "The training dataset was balanced by undersampling the majority class resulting in the shape"
   ]
  },
  {
   "cell_type": "code",
   "execution_count": 19,
   "metadata": {},
   "outputs": [
    {
     "data": {
      "text/plain": [
       "(238, 4)"
      ]
     },
     "execution_count": 19,
     "metadata": {},
     "output_type": "execute_result"
    }
   ],
   "source": [
    "forecast.model.train_X.shape"
   ]
  },
  {
   "cell_type": "markdown",
   "metadata": {},
   "source": [
    "## Fit model and hyphotesis cases"
   ]
  },
  {
   "cell_type": "markdown",
   "metadata": {},
   "source": [
    "The model was trained splitting in folds to select the best model to the evaluation metric. The models picked were [*XGboost*, *Random Forest*, *Logistic Regression*]. Differents hyphotesis were created."
   ]
  },
  {
   "cell_type": "markdown",
   "metadata": {},
   "source": [
    "#### 1 - If the model's target is to primarily detect the delinquencies. The evaluation metric should be *recall*\n",
    "\n",
    "The *XGBClassifier* should be the choose with the mean performance metric = 0.64"
   ]
  },
  {
   "cell_type": "code",
   "execution_count": 20,
   "metadata": {},
   "outputs": [
    {
     "name": "stderr",
     "output_type": "stream",
     "text": [
      "INFO:root:<class 'sklearn.linear_model._logistic.LogisticRegression'> : Training sample metrics | [0.913, 0.6, 0.957, 0.87, 0.64] | mean: 0.796\n",
      "INFO:root:<class 'xgboost.sklearn.XGBClassifier'> : Training sample metrics | [0.826, 0.72, 0.87, 0.957, 0.84] | mean: 0.843\n",
      "INFO:root:<class 'sklearn.ensemble._forest.RandomForestClassifier'> : Training sample metrics | [0.826, 0.6, 0.87, 0.913, 0.76] | mean: 0.794\n",
      "INFO:root:Best model :XGBClassifier\n",
      "INFO:root:Test sampling recall : 0.647\n",
      "INFO:root:Classification report \n",
      "               precision    recall  f1-score   support\n",
      "\n",
      "           0       0.85      0.54      0.66       187\n",
      "           1       0.28      0.65      0.39        51\n",
      "\n",
      "    accuracy                           0.56       238\n",
      "   macro avg       0.56      0.59      0.52       238\n",
      "weighted avg       0.73      0.56      0.60       238\n",
      "\n",
      "INFO:root:Confusion matrix \n",
      " [[101  86]\n",
      " [ 18  33]]\n"
     ]
    }
   ],
   "source": [
    "logger.setLevel(logging.INFO)\n",
    "forecast = ForecastDefault(\n",
    "    loans_hist=loans, \n",
    "    recharges_hist=recharges, estimators_list=[\n",
    "                                                LogisticRegression,\n",
    "                                                XGBClassifier,\n",
    "                                                RandomForestClassifier,\n",
    "                                                ],\n",
    "    eval_metric='recall',\n",
    "    inicial_date='2019-01-01',days_to_default=60,limit_date='2019-12-31')"
   ]
  },
  {
   "cell_type": "markdown",
   "metadata": {},
   "source": [
    "#### 2 - If the model's target is to primarily not miss at all. The evaluation metric should be *Accuracy*\n",
    "\n",
    "The *Random Forest* should be the choose with the mean performance metric = 0.55"
   ]
  },
  {
   "cell_type": "code",
   "execution_count": 21,
   "metadata": {},
   "outputs": [
    {
     "name": "stderr",
     "output_type": "stream",
     "text": [
      "INFO:root:<class 'sklearn.linear_model._logistic.LogisticRegression'> : Training sample metrics | [0.708, 0.688, 0.833, 0.766, 0.745] | mean: 0.748\n",
      "INFO:root:<class 'xgboost.sklearn.XGBClassifier'> : Training sample metrics | [0.812, 0.812, 0.854, 0.872, 0.851] | mean: 0.84\n",
      "INFO:root:<class 'sklearn.ensemble._forest.RandomForestClassifier'> : Training sample metrics | [0.833, 0.812, 0.896, 0.872, 0.83] | mean: 0.849\n",
      "INFO:root:Best model :RandomForestClassifier\n",
      "INFO:root:Test sampling acc : 0.563\n",
      "INFO:root:Classification report \n",
      "               precision    recall  f1-score   support\n",
      "\n",
      "           0       0.85      0.54      0.66       187\n",
      "           1       0.28      0.65      0.39        51\n",
      "\n",
      "    accuracy                           0.56       238\n",
      "   macro avg       0.56      0.59      0.52       238\n",
      "weighted avg       0.73      0.56      0.60       238\n",
      "\n",
      "INFO:root:Confusion matrix \n",
      " [[101  86]\n",
      " [ 18  33]]\n"
     ]
    }
   ],
   "source": [
    "logger.setLevel(logging.INFO)\n",
    "forecast = ForecastDefault(\n",
    "    loans_hist=loans, \n",
    "    recharges_hist=recharges, estimators_list=[\n",
    "                                                LogisticRegression,\n",
    "                                                XGBClassifier,\n",
    "                                                RandomForestClassifier,\n",
    "                                                ],\n",
    "    eval_metric='acc',\n",
    "    inicial_date='2019-01-01',days_to_default=60,limit_date='2019-12-31')"
   ]
  },
  {
   "cell_type": "markdown",
   "metadata": {},
   "source": [
    "#### 3 - If the model's target is to primarily balance between precision and detect correctly delinquencies. The evaluation metric should be *F-1*\n",
    "\n",
    "The *Random Forest* should be the choose with the mean performance metric = 0.38"
   ]
  },
  {
   "cell_type": "code",
   "execution_count": 22,
   "metadata": {},
   "outputs": [
    {
     "name": "stderr",
     "output_type": "stream",
     "text": [
      "INFO:root:<class 'sklearn.linear_model._logistic.LogisticRegression'> : Training sample metrics | [0.75, 0.667, 0.846, 0.784, 0.727] | mean: 0.755\n",
      "INFO:root:<class 'xgboost.sklearn.XGBClassifier'> : Training sample metrics | [0.809, 0.8, 0.851, 0.88, 0.857] | mean: 0.839\n",
      "INFO:root:<class 'sklearn.ensemble._forest.RandomForestClassifier'> : Training sample metrics | [0.844, 0.75, 0.87, 0.875, 0.851] | mean: 0.838\n",
      "INFO:root:Best model :XGBClassifier\n",
      "INFO:root:Test sampling f1 : 0.388\n",
      "INFO:root:Classification report \n",
      "               precision    recall  f1-score   support\n",
      "\n",
      "           0       0.85      0.54      0.66       187\n",
      "           1       0.28      0.65      0.39        51\n",
      "\n",
      "    accuracy                           0.56       238\n",
      "   macro avg       0.56      0.59      0.52       238\n",
      "weighted avg       0.73      0.56      0.60       238\n",
      "\n",
      "INFO:root:Confusion matrix \n",
      " [[101  86]\n",
      " [ 18  33]]\n"
     ]
    }
   ],
   "source": [
    "logger.setLevel(logging.INFO)\n",
    "forecast = ForecastDefault(\n",
    "    loans_hist=loans, \n",
    "    recharges_hist=recharges, estimators_list=[\n",
    "                                                LogisticRegression,\n",
    "                                                XGBClassifier,\n",
    "                                                RandomForestClassifier,\n",
    "                                                ],\n",
    "    eval_metric='f1',\n",
    "    inicial_date='2019-01-01',days_to_default=60,limit_date='2019-12-31')"
   ]
  },
  {
   "cell_type": "markdown",
   "metadata": {},
   "source": [
    "#### 4 - If the purpose of the model is primarily to distinguish the classes. The evaluation metric should be *AUC*\n",
    "\n",
    "The *Random Forest* should be the choose with the mean performance metric = 0.58"
   ]
  },
  {
   "cell_type": "code",
   "execution_count": 23,
   "metadata": {},
   "outputs": [
    {
     "name": "stderr",
     "output_type": "stream",
     "text": [
      "INFO:root:<class 'sklearn.linear_model._logistic.LogisticRegression'> : Training sample metrics | [0.717, 0.691, 0.838, 0.768, 0.752] | mean: 0.753\n",
      "INFO:root:<class 'xgboost.sklearn.XGBClassifier'> : Training sample metrics | [0.813, 0.817, 0.855, 0.874, 0.852] | mean: 0.842\n",
      "INFO:root:<class 'sklearn.ensemble._forest.RandomForestClassifier'> : Training sample metrics | [0.853, 0.82, 0.875, 0.873, 0.835] | mean: 0.851\n",
      "INFO:root:Best model :RandomForestClassifier\n",
      "INFO:root:Test sampling roc_auc : 0.586\n",
      "INFO:root:Classification report \n",
      "               precision    recall  f1-score   support\n",
      "\n",
      "           0       0.84      0.55      0.66       187\n",
      "           1       0.27      0.63      0.38        51\n",
      "\n",
      "    accuracy                           0.56       238\n",
      "   macro avg       0.56      0.59      0.52       238\n",
      "weighted avg       0.72      0.56      0.60       238\n",
      "\n",
      "INFO:root:Confusion matrix \n",
      " [[102  85]\n",
      " [ 19  32]]\n"
     ]
    }
   ],
   "source": [
    "forecast = ForecastDefault(\n",
    "    loans_hist=loans, \n",
    "    recharges_hist=recharges, estimators_list=[\n",
    "                                                LogisticRegression,\n",
    "                                                XGBClassifier,\n",
    "                                                RandomForestClassifier,\n",
    "                                                ],\n",
    "    eval_metric='roc_auc',\n",
    "    inicial_date='2019-01-01',days_to_default=60,limit_date='2019-12-31')"
   ]
  },
  {
   "cell_type": "markdown",
   "metadata": {},
   "source": [
    "## Future improvements"
   ]
  },
  {
   "cell_type": "markdown",
   "metadata": {},
   "source": [
    "Creating allowed loans limits to each costumer combining regression models with business stategy to simulate different scenarios and with evaluate possible Return On Investiment for each strategy. Once chosen the strategy we could test it using A/B tests"
   ]
  }
 ],
 "metadata": {
  "kernelspec": {
   "display_name": "Python 3.8.13 ('juvo_test_pycaret')",
   "language": "python",
   "name": "python3"
  },
  "language_info": {
   "codemirror_mode": {
    "name": "ipython",
    "version": 3
   },
   "file_extension": ".py",
   "mimetype": "text/x-python",
   "name": "python",
   "nbconvert_exporter": "python",
   "pygments_lexer": "ipython3",
   "version": "3.8.13"
  },
  "orig_nbformat": 4,
  "vscode": {
   "interpreter": {
    "hash": "a4c1e565532e5fff16bd3446033563fd370e33105d4f015d2a3592710332b59c"
   }
  }
 },
 "nbformat": 4,
 "nbformat_minor": 2
}
