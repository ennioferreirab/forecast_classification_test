{
 "cells": [
  {
   "cell_type": "code",
   "execution_count": 2,
   "metadata": {},
   "outputs": [],
   "source": [
    "from functions.read import *\n",
    "loans, recharges = load_dfs()"
   ]
  },
  {
   "cell_type": "markdown",
   "metadata": {},
   "source": [
    "# Falta fazer\n",
    "\n",
    "* Criar os cenários para escolher qual melhor modelo\n",
    "* Relátorio final\n",
    "* Criar os mocks de teste do feature eng\n",
    "* Se der tempo fazer um CLI básico"
   ]
  },
  {
   "cell_type": "markdown",
   "metadata": {},
   "source": [
    "# Exploratory data analysis"
   ]
  },
  {
   "cell_type": "markdown",
   "metadata": {},
   "source": [
    "É interessante observar que os emprestimos não pagos não varia muito da mediana populacional, 5, entretanto utilizar essa informação pode gerar bias no modelo preditivo.\n",
    "\n",
    "\n",
    "LEMBRETES:\n",
    "    Criar intervalos de loans permitidos para cada usuário\n",
    "    Fazes dois mocks para as funções de feature eng\n",
    "\n",
    "Notas:\n",
    "    Distribuição acumulado inad. \n",
    "        target_sum\n",
    "        0    7044\n",
    "        1    2463\n",
    "        2       5\n",
    "        4       1\n",
    "\n",
    "#t_loans\n"
   ]
  },
  {
   "cell_type": "code",
   "execution_count": 2,
   "metadata": {},
   "outputs": [],
   "source": [
    "#print('General Loans stats \\n',t_loans['amount'].describe(),'\\n',f\"Median : {t_loans['amount'].median()}\")\n",
    "#print('Paid stats \\n',t_loans.query('target == 0').groupby('uuid').sum('amount').sort_values('amount',ascending=False)['amount'].describe())\n",
    "#print('Not Paid stats \\n',t_loans.query('target == 1').groupby('uuid').sum('amount').sort_values('amount',ascending=False)['amount'].describe())"
   ]
  },
  {
   "cell_type": "code",
   "execution_count": 7,
   "metadata": {},
   "outputs": [
    {
     "name": "stdout",
     "output_type": "stream",
     "text": [
      "last_date 2019-10-06 00:00:00\n",
      "limit_date 2019-12-04 23:54:57.280521\n",
      "train_loans:  (2522, 5)\n",
      "test_loans:  (16439, 5)\n",
      "Dist train_y : \n",
      " 0    119\n",
      "1    119\n",
      "Name: target, dtype: int64\n",
      "train_X:  (238, 4)\n",
      "train_y:  (238,)\n",
      "test_X:  (238, 4)\n",
      "test_y:  (238,)\n",
      "<class 'sklearn.linear_model._logistic.LogisticRegression'> : Training sample metrics | [0.75, 0.667, 0.846, 0.784, 0.727] | mean: 0.755\n",
      "<class 'xgboost.sklearn.XGBClassifier'> : Training sample metrics | [0.809, 0.8, 0.851, 0.88, 0.857] | mean: 0.839\n",
      "<class 'sklearn.ensemble._forest.RandomForestClassifier'> : Training sample metrics | [0.844, 0.75, 0.889, 0.88, 0.826] | mean: 0.838\n",
      "Best model :XGBClassifier\n",
      "Test sampling f1 : 0.033\n",
      "Classification report \n",
      "               precision    recall  f1-score   support\n",
      "\n",
      "           0       0.99      0.50      0.67       235\n",
      "           1       0.02      0.67      0.03         3\n",
      "\n",
      "    accuracy                           0.50       238\n",
      "   macro avg       0.50      0.58      0.35       238\n",
      "weighted avg       0.98      0.50      0.66       238\n",
      "\n",
      "Confusion matrix \n",
      " [[118 117]\n",
      " [  1   2]]\n"
     ]
    }
   ],
   "source": [
    "from sklearn.ensemble import RandomForestClassifier\n",
    "from sklearn.linear_model import LogisticRegression\n",
    "from xgboost import XGBClassifier\n",
    "from functions.feature_default import ForecastDefault\n",
    "\n",
    "s = ForecastDefault(\n",
    "    loans_hist=loans, \n",
    "    recharges_hist=recharges, estimators_list=[\n",
    "                                                LogisticRegression,\n",
    "                                                XGBClassifier,\n",
    "                                                RandomForestClassifier,\n",
    "                                                ],\n",
    "    eval_metric='f1',\n",
    "    inicial_date='2019-01-01',days_to_default=60,limit_date='2019-12-05')"
   ]
  }
 ],
 "metadata": {
  "kernelspec": {
   "display_name": "Python 3.8.13 ('juvo_test_pycaret')",
   "language": "python",
   "name": "python3"
  },
  "language_info": {
   "codemirror_mode": {
    "name": "ipython",
    "version": 3
   },
   "file_extension": ".py",
   "mimetype": "text/x-python",
   "name": "python",
   "nbconvert_exporter": "python",
   "pygments_lexer": "ipython3",
   "version": "3.8.13"
  },
  "orig_nbformat": 4,
  "vscode": {
   "interpreter": {
    "hash": "a4c1e565532e5fff16bd3446033563fd370e33105d4f015d2a3592710332b59c"
   }
  }
 },
 "nbformat": 4,
 "nbformat_minor": 2
}
